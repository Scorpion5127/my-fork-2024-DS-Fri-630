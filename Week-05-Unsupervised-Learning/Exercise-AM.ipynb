{
 "cells": [
  {
   "cell_type": "markdown",
   "metadata": {},
   "source": [
    "# Fall 2024 Data Science Track: Week 5 - Unsupervised Learning"
   ]
  },
  {
   "cell_type": "markdown",
   "metadata": {},
   "source": [
    "## Packages, Packages, Packages!\n",
    "\n",
    "Import *all* the things here! You need: `matplotlib`, `networkx`, `numpy`, and `pandas`―and also `ast.literal_eval` to correctly deserialize two columns in the `rules.tsv.xz` file.\n",
    "\n",
    "If you got more stuff you want to use, add them here too. 🙂"
   ]
  },
  {
   "cell_type": "code",
   "execution_count": 31,
   "metadata": {},
   "outputs": [],
   "source": [
    "# Don’t worry about this. This is needed to interpret the Python code that is embedded in the data set. You only need it literally in the very next code cell and nowhere else. \n",
    "from ast import literal_eval\n",
    "\n",
    "# The rest is just the stuff from the lecture.\n",
    "from matplotlib import pyplot as plt\n",
    "import networkx as nx\n",
    "import numpy as np\n",
    "import pandas as pd"
   ]
  },
  {
   "cell_type": "markdown",
   "metadata": {},
   "source": [
    "# Instacart Association Rules"
   ]
  },
  {
   "cell_type": "markdown",
   "metadata": {},
   "source": [
    "## Introduction\n",
    "\n",
    "With the packages out of the way, now you will be working with the Instacart association rules data set, mined from the [Instacart Market Basket Analysis data set](https://www.kaggle.com/c/instacart-market-basket-analysis/data) on Kaggle. [The script](https://github.com/LiKenun/shopping-assistant/blob/main/api/preprocess_instacart_market_basket_analysis_data.py) that does it and the instructions to run it can be found in my [Shopping Assistant Project](https://github.com/LiKenun/shopping-assistant) repository."
   ]
  },
  {
   "cell_type": "markdown",
   "metadata": {},
   "source": [
    "## Load the Data\n",
    "\n",
    "This code has already been pre-written, simply because there are a few quirks which require converters to ensure the correct deserialization of some columns."
   ]
  },
  {
   "cell_type": "code",
   "execution_count": 32,
   "metadata": {},
   "outputs": [],
   "source": [
    "rules_data_path = 'data/rules.tsv.xz'                       # You do not need to decompress this yourself. Pandas understands how to read compressed data.\n",
    "\n",
    "df_rules = pd.read_csv(rules_data_path,\n",
    "                       sep='\\t',\n",
    "                       quoting=3,                           # This disables interpretation of quotes by Pandas itself, because both single and double quotes will be resolved by literal_eval.\n",
    "                       converters={\n",
    "                           'consequent_item': literal_eval,\n",
    "                           'antecedent_items': literal_eval # This reads something like [\"Grandma's 8\\\" Chip Cookies\", '6\" Apple Pie'] into a list, so you will get a column where each individual cell is a list.\n",
    "                       },\n",
    "                       low_memory=True)                     # For Chris"
   ]
  },
  {
   "cell_type": "markdown",
   "metadata": {},
   "source": [
    "But just *how* many rules were just loaded‽"
   ]
  },
  {
   "cell_type": "code",
   "execution_count": 33,
   "metadata": {},
   "outputs": [
    {
     "name": "stdout",
     "output_type": "stream",
     "text": [
      "                                     consequent_item  transaction_count  \\\n",
      "0  Total 2% with Raspberry Pomegranate Lowfat Gre...            3346083   \n",
      "1  Total 2% Lowfat Greek Strained Yogurt With Blu...            3346083   \n",
      "2   Total 0% with Honey Nonfat Greek Strained Yogurt            3346083   \n",
      "3                          Total 0% Raspberry Yogurt            3346083   \n",
      "4                                Pineapple Yogurt 2%            3346083   \n",
      "\n",
      "   item_set_count  antecedent_count  consequent_count  \\\n",
      "0             101               123               128   \n",
      "1             101               128               123   \n",
      "2             101               123               128   \n",
      "3             101               123               128   \n",
      "4             101               128               123   \n",
      "\n",
      "                                    antecedent_items  \n",
      "0  [Fat Free Blueberry Yogurt, Pineapple Yogurt 2...  \n",
      "1  [Fat Free Strawberry Yogurt, Total 0% Raspberr...  \n",
      "2  [Fat Free Blueberry Yogurt, Pineapple Yogurt 2...  \n",
      "3  [Fat Free Blueberry Yogurt, Pineapple Yogurt 2...  \n",
      "4  [Fat Free Strawberry Yogurt, Total 0% Raspberr...  \n",
      "Column names: ['consequent_item', 'transaction_count', 'item_set_count', 'antecedent_count', 'consequent_count', 'antecedent_items']\n",
      "Number of rules: 1048575\n"
     ]
    }
   ],
   "source": [
    "# Show the list of column names and the number of rules.\n",
    "print(df_rules.head())\n",
    "# Display the column names\n",
    "print(\"Column names:\", df_rules.columns.tolist())\n",
    "\n",
    "# Display the number of rules (rows) in the dataframe, how I understood it\n",
    "print(\"Number of rules:\", len(df_rules))"
   ]
  },
  {
   "cell_type": "markdown",
   "metadata": {},
   "source": [
    "## Metrics\n",
    "\n",
    "Compute the support, confidence, and lift of each rule.\n",
    "\n",
    "* The rule’s *support* tells you how frequently the set of items appears in the dataset. It’s important to prune infrequent sets from further consideration.\n",
    "    * The simple definition: $$P(A \\cap B)$$\n",
    "    * `= item_set_count / transaction_count`\n",
    "* The rule’s *confidence* tells you how often a the rule is true. Divide the support for the set of items by the support for just the antecedents. Rules which are not true very often are also pruned.\n",
    "    * The simple definition: $$\\frac{P(A \\cap B)}{P(A)}$$\n",
    "    * `= item_set_count / transaction_count / (antecedent_count / transaction_count)`\n",
    "    * `= item_set_count / antecedent_count`\n",
    "* The rule’s *lift* tells you how much more likely the consequent is, given the antecedents, compared to its baseline probability. Divide the support for the set of items by both the support of the antecedents and consequent. Equivalently, divide the confidence by the support of the consequent.\n",
    "    * The simple definition: $$\\frac{P(A \\cap B)}{P(A) \\cdot P(B)}$$\n",
    "    * `= item_set_count / transaction_count / (antecedent_count / transaction_count * (consequent_count / transaction_count))`\n",
    "    * `= item_set_count / antecedent_count / (consequent_count / transaction_count)`\n",
    "    * `= item_set_count * transaction_count / (antecedent_count * consequent_count)`"
   ]
  },
  {
   "cell_type": "code",
   "execution_count": 34,
   "metadata": {},
   "outputs": [],
   "source": [
    "# Add new columns support, confidence, and lift to df_rules. And show the first 50 rules.\n",
    "\n",
    "df_rules['support'] = df_rules['item_set_count'] / df_rules['transaction_count']\n",
    "df_rules['confidence'] = df_rules['item_set_count'] / df_rules['antecedent_count']\n",
    "df_rules['lift'] = (df_rules['item_set_count'] * df_rules['transaction_count']) / (df_rules['antecedent_count'] * df_rules['consequent_count'])\n"
   ]
  },
  {
   "cell_type": "markdown",
   "metadata": {},
   "source": [
    "The yogurts have got some insane lift (*over 9,000*). Why do you think that might be?"
   ]
  },
  {
   "cell_type": "markdown",
   "metadata": {},
   "source": [
    "*(Write your answer here.)*"
   ]
  },
  {
   "cell_type": "code",
   "execution_count": 35,
   "metadata": {},
   "outputs": [
    {
     "name": "stdout",
     "output_type": "stream",
     "text": [
      "                                     antecedent_items  \\\n",
      "0   [Fat Free Blueberry Yogurt, Pineapple Yogurt 2...   \n",
      "1   [Fat Free Strawberry Yogurt, Total 0% Raspberr...   \n",
      "2   [Fat Free Blueberry Yogurt, Pineapple Yogurt 2...   \n",
      "3   [Fat Free Blueberry Yogurt, Pineapple Yogurt 2...   \n",
      "4   [Fat Free Strawberry Yogurt, Total 0% Raspberr...   \n",
      "5   [Fat Free Blueberry Yogurt, Pineapple Yogurt 2...   \n",
      "6   [Fat Free Strawberry Yogurt, Total 0% Raspberr...   \n",
      "7   [Blackberry Yogurt, Fat Free Strawberry Yogurt...   \n",
      "8   [Blackberry Yogurt, Fat Free Strawberry Yogurt...   \n",
      "9   [Pineapple Yogurt 2%, Total 0% Raspberry Yogur...   \n",
      "10  [Pineapple Yogurt 2%, Total 0% Raspberry Yogur...   \n",
      "11  [Blackberry Yogurt, Fat Free Strawberry Yogurt...   \n",
      "12  [Blackberry Yogurt, Fat Free Strawberry Yogurt...   \n",
      "13  [Pineapple Yogurt 2%, Total 0% Raspberry Yogur...   \n",
      "14  [Pineapple Yogurt 2%, Total 0% Raspberry Yogur...   \n",
      "15  [Fat Free Blueberry Yogurt, Pineapple Yogurt 2...   \n",
      "16  [Fat Free Strawberry Yogurt, Total 0% with Hon...   \n",
      "17  [Fat Free Blueberry Yogurt, Pineapple Yogurt 2...   \n",
      "18  [Fat Free Strawberry Yogurt, Total 0% with Hon...   \n",
      "19  [Fat Free Strawberry Yogurt, Total 0% with Hon...   \n",
      "20  [Fat Free Blueberry Yogurt, Pineapple Yogurt 2...   \n",
      "21  [Fat Free Strawberry Yogurt, Total 0% with Hon...   \n",
      "22  [Blackberry Yogurt, Pineapple Yogurt 2%, Total...   \n",
      "23  [Blackberry Yogurt, Pineapple Yogurt 2%, Total...   \n",
      "24  [Fat Free Strawberry Yogurt, Total 2% All Natu...   \n",
      "25  [Blackberry Yogurt, Pineapple Yogurt 2%, Total...   \n",
      "26  [Fat Free Strawberry Yogurt, Total 2% All Natu...   \n",
      "27  [Fat Free Strawberry Yogurt, Total 2% All Natu...   \n",
      "28  [Blackberry Yogurt, Pineapple Yogurt 2%, Total...   \n",
      "29  [Fat Free Strawberry Yogurt, Total 2% All Natu...   \n",
      "30  [Total 0% Raspberry Yogurt, Total 2% All Natur...   \n",
      "31  [Blackberry Yogurt, Fat Free Strawberry Yogurt...   \n",
      "32  [Blackberry Yogurt, Fat Free Strawberry Yogurt...   \n",
      "33  [Blackberry Yogurt, Fat Free Strawberry Yogurt...   \n",
      "34  [Total 0% Raspberry Yogurt, Total 2% All Natur...   \n",
      "35  [Blackberry Yogurt, Fat Free Strawberry Yogurt...   \n",
      "36  [Blackberry Yogurt, Fat Free Strawberry Yogurt...   \n",
      "37  [Total 0% Raspberry Yogurt, Total 2% All Natur...   \n",
      "38  [Total 0% Raspberry Yogurt, Total 2% All Natur...   \n",
      "39  [Blackberry Yogurt, Fat Free Strawberry Yogurt...   \n",
      "40  [Blackberry Yogurt, Fat Free Strawberry Yogurt...   \n",
      "41  [Total 0% Raspberry Yogurt, Total 2% All Natur...   \n",
      "42  [Blackberry Yogurt, Fat Free Strawberry Yogurt...   \n",
      "43  [Total 0% Raspberry Yogurt, Total 2% All Natur...   \n",
      "44  [Blackberry Yogurt, Fat Free Strawberry Yogurt...   \n",
      "45  [Blackberry Yogurt, Fat Free Strawberry Yogurt...   \n",
      "46  [Total 0% Raspberry Yogurt, Total 2% All Natur...   \n",
      "47  [Total 0% Raspberry Yogurt, Total 2% All Natur...   \n",
      "48  [Fat Free Blueberry Yogurt, Pineapple Yogurt 2...   \n",
      "49  [Fat Free Strawberry Yogurt, Total 0% with Hon...   \n",
      "\n",
      "                                      consequent_item   support  confidence  \\\n",
      "0   Total 2% with Raspberry Pomegranate Lowfat Gre...  0.000030    0.821138   \n",
      "1   Total 2% Lowfat Greek Strained Yogurt With Blu...  0.000030    0.789062   \n",
      "2    Total 0% with Honey Nonfat Greek Strained Yogurt  0.000030    0.821138   \n",
      "3                           Total 0% Raspberry Yogurt  0.000030    0.821138   \n",
      "4                                 Pineapple Yogurt 2%  0.000030    0.789062   \n",
      "5                          Fat Free Strawberry Yogurt  0.000030    0.821138   \n",
      "6                           Fat Free Blueberry Yogurt  0.000030    0.789062   \n",
      "7   Total 2% with Raspberry Pomegranate Lowfat Gre...  0.000030    0.687075   \n",
      "8   Total 2% Lowfat Greek Strained Yogurt With Blu...  0.000030    0.687075   \n",
      "9   Total 2% Greek Strained Yogurt with Cherry 5.3 oz  0.000030    0.863248   \n",
      "10  Total 2% All Natural Greek Strained Yogurt wit...  0.000030    0.863248   \n",
      "11                          Total 0% Raspberry Yogurt  0.000030    0.687075   \n",
      "12                                Pineapple Yogurt 2%  0.000030    0.687075   \n",
      "13                         Fat Free Strawberry Yogurt  0.000030    0.863248   \n",
      "14                                  Blackberry Yogurt  0.000030    0.863248   \n",
      "15  Total 2% with Raspberry Pomegranate Lowfat Gre...  0.000030    0.848739   \n",
      "16  Total 2% Lowfat Greek Strained Yogurt With Blu...  0.000030    0.696552   \n",
      "17   Total 0% with Honey Nonfat Greek Strained Yogurt  0.000030    0.848739   \n",
      "18                          Total 0% Raspberry Yogurt  0.000030    0.696552   \n",
      "19                                Pineapple Yogurt 2%  0.000030    0.696552   \n",
      "20                         Fat Free Strawberry Yogurt  0.000030    0.848739   \n",
      "21                          Fat Free Blueberry Yogurt  0.000030    0.696552   \n",
      "22  Total 2% with Raspberry Pomegranate Lowfat Gre...  0.000030    0.765152   \n",
      "23  Total 2% Lowfat Greek Strained Yogurt With Blu...  0.000030    0.765152   \n",
      "24  Total 2% Greek Strained Yogurt with Cherry 5.3 oz  0.000030    0.759398   \n",
      "25  Total 2% All Natural Greek Strained Yogurt wit...  0.000030    0.765152   \n",
      "26                          Total 0% Raspberry Yogurt  0.000030    0.759398   \n",
      "27                                Pineapple Yogurt 2%  0.000030    0.759398   \n",
      "28                         Fat Free Strawberry Yogurt  0.000030    0.765152   \n",
      "29                                  Blackberry Yogurt  0.000030    0.759398   \n",
      "30  Total 2% with Strawberry Lowfat Greek Strained...  0.000031    0.798450   \n",
      "31  Total 2% with Raspberry Pomegranate Lowfat Gre...  0.000031    0.741007   \n",
      "32   Total 2% Lowfat Greek Strained Yogurt with Peach  0.000031    0.741007   \n",
      "33  Total 2% Lowfat Greek Strained Yogurt With Blu...  0.000031    0.741007   \n",
      "34  Total 2% Greek Strained Yogurt with Cherry 5.3 oz  0.000031    0.798450   \n",
      "35  Total 2% All Natural Greek Strained Yogurt wit...  0.000031    0.741007   \n",
      "36                          Total 0% Raspberry Yogurt  0.000031    0.741007   \n",
      "37                         Fat Free Strawberry Yogurt  0.000031    0.798450   \n",
      "38                                  Blackberry Yogurt  0.000031    0.798450   \n",
      "39  Total 2% with Strawberry Lowfat Greek Strained...  0.000031    0.715278   \n",
      "40  Total 2% with Raspberry Pomegranate Lowfat Gre...  0.000031    0.715278   \n",
      "41   Total 2% Lowfat Greek Strained Yogurt with Peach  0.000031    0.824000   \n",
      "42  Total 2% Lowfat Greek Strained Yogurt With Blu...  0.000031    0.715278   \n",
      "43  Total 2% Greek Strained Yogurt with Cherry 5.3 oz  0.000031    0.824000   \n",
      "44  Total 2% All Natural Greek Strained Yogurt wit...  0.000031    0.715278   \n",
      "45                          Total 0% Raspberry Yogurt  0.000031    0.715278   \n",
      "46                         Fat Free Strawberry Yogurt  0.000031    0.824000   \n",
      "47                                  Blackberry Yogurt  0.000031    0.824000   \n",
      "48  Total 2% with Raspberry Pomegranate Lowfat Gre...  0.000030    0.829268   \n",
      "49  Total 2% Lowfat Greek Strained Yogurt With Blu...  0.000030    0.703448   \n",
      "\n",
      "            lift  \n",
      "0   21465.598514  \n",
      "1   21465.598514  \n",
      "2   21465.598514  \n",
      "3   21465.598514  \n",
      "4   21465.598514  \n",
      "5   21465.598514  \n",
      "6   21465.598514  \n",
      "7   19649.653061  \n",
      "8   19649.653061  \n",
      "9   19649.653061  \n",
      "10  19649.653061  \n",
      "11  19649.653061  \n",
      "12  19649.653061  \n",
      "13  19649.653061  \n",
      "14  19649.653061  \n",
      "15  19585.881368  \n",
      "16  19585.881368  \n",
      "17  19585.881368  \n",
      "18  19585.881368  \n",
      "19  19585.881368  \n",
      "20  19585.881368  \n",
      "21  19585.881368  \n",
      "22  19250.078776  \n",
      "23  19250.078776  \n",
      "24  19250.078776  \n",
      "25  19250.078776  \n",
      "26  19250.078776  \n",
      "27  19250.078776  \n",
      "28  19250.078776  \n",
      "29  19250.078776  \n",
      "30  19220.709888  \n",
      "31  19220.709888  \n",
      "32  19220.709888  \n",
      "33  19220.709888  \n",
      "34  19220.709888  \n",
      "35  19220.709888  \n",
      "36  19220.709888  \n",
      "37  19220.709888  \n",
      "38  19220.709888  \n",
      "39  19147.030500  \n",
      "40  19147.030500  \n",
      "41  19147.030500  \n",
      "42  19147.030500  \n",
      "43  19147.030500  \n",
      "44  19147.030500  \n",
      "45  19147.030500  \n",
      "46  19147.030500  \n",
      "47  19147.030500  \n",
      "48  19136.555425  \n",
      "49  19136.555425  \n"
     ]
    }
   ],
   "source": [
    "# Query the rule set if you have to to find out more.\n",
    "print(df_rules[['antecedent_items', 'consequent_item', 'support', 'confidence', 'lift']].head(50))\n",
    "\n"
   ]
  },
  {
   "cell_type": "markdown",
   "metadata": {},
   "source": [
    "## Network Visualization for Consequents with Single Antecedents\n",
    "\n",
    "Let’s now visualize a small subset of 1,000,000+ rules. First, filter the rule set for the following to whittle it down to something more manageable:\n",
    "\n",
    "1. The rule must have exactly `1` antecedent item. (There should be 38,684 such rules.)\n",
    "2. The lift must be between `5` and `20`. (There should be 1,596 such rules, including the prior criterion.)\n",
    "3. Either the antecedent or consequent of the rule must contain `'Hummus'`, but not both. (This should get you down to 26 rules.)\n",
    "    * Convert the antecedents `list`-typed column to a `str`-typed column (`antecedent_item`) since there will only be a single antecedent in the subset.\n",
    "    * Replace any item containing `'Hummus'` to just `'Hummus'`. This will make the visualization more readable later.\n",
    "\n",
    "Hint: your code may run more efficiently if you re-order certain processing steps.\n",
    "\n",
    "Assign the subset to `df_rules_subset`."
   ]
  },
  {
   "cell_type": "code",
   "execution_count": 45,
   "metadata": {},
   "outputs": [
    {
     "data": {
      "text/plain": [
       "38684"
      ]
     },
     "execution_count": 45,
     "metadata": {},
     "output_type": "execute_result"
    }
   ],
   "source": [
    "# Define df_rules_subset.\n",
    "\n",
    "\n",
    "\n",
    "# exactly 1 antecedent item\n",
    "df_rules_subset = df_rules[df_rules['antecedent_items'].str.len() == 1]\n",
    "len(df_rules_subset)"
   ]
  },
  {
   "cell_type": "code",
   "execution_count": 46,
   "metadata": {},
   "outputs": [
    {
     "data": {
      "text/plain": [
       "1596"
      ]
     },
     "execution_count": 46,
     "metadata": {},
     "output_type": "execute_result"
    }
   ],
   "source": [
    "df_rules_subset = df_rules_subset[(df_rules_subset['lift'] >= 5) & (df_rules_subset['lift'] <= 20)]\n",
    "len(df_rules_subset)"
   ]
  },
  {
   "cell_type": "code",
   "execution_count": 55,
   "metadata": {},
   "outputs": [
    {
     "data": {
      "text/plain": [
       "0"
      ]
     },
     "execution_count": 55,
     "metadata": {},
     "output_type": "execute_result"
    }
   ],
   "source": [
    "#stuck\n",
    "df_rules_subset = df_rules_subset[\n",
    "    ((df_rules_subset['antecedent_items'].apply(lambda x: 'Hummus' in x)) & \n",
    "     (~df_rules_subset['consequent_item'].apply(lambda x: 'Hummus' in x))) |\n",
    "    ((~df_rules_subset['antecedent_items'].apply(lambda x: 'Hummus' in x)) & \n",
    "     (df_rules_subset['consequent_item'].apply(lambda x: 'Hummus' in x)))\n",
    "]\n",
    "len(df_rules_subset)\n"
   ]
  },
  {
   "cell_type": "markdown",
   "metadata": {},
   "source": [
    "Build a network `graph_rules_subset` from the association rules subset."
   ]
  },
  {
   "cell_type": "code",
   "execution_count": 54,
   "metadata": {},
   "outputs": [
    {
     "ename": "TypeError",
     "evalue": "add_edges_from() missing 1 required positional argument: 'ebunch_to_add'",
     "output_type": "error",
     "traceback": [
      "\u001b[1;31m---------------------------------------------------------------------------\u001b[0m",
      "\u001b[1;31mTypeError\u001b[0m                                 Traceback (most recent call last)",
      "Cell \u001b[1;32mIn[54], line 4\u001b[0m\n\u001b[0;32m      1\u001b[0m \u001b[38;5;66;03m# Define graph_rules_subset, add the graph’s edges, and plot it. You may need a large figure size, smaller node size, and smaller font size.\u001b[39;00m\n\u001b[0;32m      3\u001b[0m graph_rules_subset \u001b[38;5;241m=\u001b[39m nx\u001b[38;5;241m.\u001b[39mMultiDiGraph()\n\u001b[1;32m----> 4\u001b[0m \u001b[43mgraph_rules_subset\u001b[49m\u001b[38;5;241;43m.\u001b[39;49m\u001b[43madd_edges_from\u001b[49m\u001b[43m(\u001b[49m\n\u001b[0;32m      5\u001b[0m \u001b[43m    \u001b[49m\u001b[38;5;66;43;03m# Something goes here.\u001b[39;49;00m\n\u001b[0;32m      6\u001b[0m \u001b[43m)\u001b[49m\n",
      "\u001b[1;31mTypeError\u001b[0m: add_edges_from() missing 1 required positional argument: 'ebunch_to_add'"
     ]
    }
   ],
   "source": [
    "# Define graph_rules_subset, add the graph’s edges, and plot it. You may need a large figure size, smaller node size, and smaller font size.\n",
    "\n",
    "graph_rules_subset = nx.MultiDiGraph()\n",
    "graph_rules_subset.add_edges_from(\n",
    "    # Something goes here.\n",
    ")\n",
    "\n",
    "# Then render the graph."
   ]
  },
  {
   "cell_type": "markdown",
   "metadata": {},
   "source": [
    "What can you tell about people who buy hummus?"
   ]
  },
  {
   "cell_type": "markdown",
   "metadata": {},
   "source": [
    "*(Write your answer here.)*"
   ]
  },
  {
   "cell_type": "markdown",
   "metadata": {},
   "source": [
    "## Make a Prediction\n",
    "\n",
    "Given that the basket of items contains the following items, use the full set of association rules to predict the next 20 most likely items (consequents) that the person will add to the basket in descending order of lift:\n",
    "\n",
    "* `'Orange Bell Pepper'`\n",
    "* `'Organic Red Bell Pepper'`\n",
    "\n",
    "Hint: a single item in the basket may be a better predictor of some consequents than both items considered together. You must consider both or either, but not neither."
   ]
  },
  {
   "cell_type": "code",
   "execution_count": null,
   "metadata": {},
   "outputs": [],
   "source": [
    "basket = {'Orange Bell Pepper', 'Organic Red Bell Pepper'}\n",
    "\n",
    "df_rules[# A few conditions go here which takes care of all the following cases:\n",
    "         # * Just Orange Bell Pepper\n",
    "         # * Just Organic Red Bell Pepper\n",
    "         # * Both Orange Bell Pepper and Organic Red Bell Pepper\n",
    "         # You can do it using just 2 conditions. :)\n",
    "         ] \\\n",
    "        .sort_values('lift', ascending=False) \\\n",
    "        .head(20)"
   ]
  },
  {
   "cell_type": "markdown",
   "metadata": {},
   "source": [
    "## Bonus: Other Interesting Findings\n",
    "\n",
    "Find and share something else interesting about these association rules. It can be a graph, table, or some other format that illustrates your point."
   ]
  },
  {
   "cell_type": "code",
   "execution_count": null,
   "metadata": {},
   "outputs": [],
   "source": []
  }
 ],
 "metadata": {
  "kernelspec": {
   "display_name": "tf",
   "language": "python",
   "name": "python3"
  },
  "language_info": {
   "codemirror_mode": {
    "name": "ipython",
    "version": 3
   },
   "file_extension": ".py",
   "mimetype": "text/x-python",
   "name": "python",
   "nbconvert_exporter": "python",
   "pygments_lexer": "ipython3",
   "version": "3.9.18"
  }
 },
 "nbformat": 4,
 "nbformat_minor": 2
}
