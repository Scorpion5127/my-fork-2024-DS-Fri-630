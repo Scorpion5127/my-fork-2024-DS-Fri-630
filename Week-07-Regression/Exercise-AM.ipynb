{
 "cells": [
  {
   "cell_type": "markdown",
   "metadata": {},
   "source": [
    "### Regression Exercise \n",
    "# Moneyball The NBA\n",
    "---\n",
    "\n",
    "### This HW is not easy. TRY IT YOURSELF FIRST! \n",
    "Then If you are able to complete it, [watch this lecture series on it](https://ocw.mit.edu/courses/15-071-the-analytics-edge-spring-2017/pages/linear-regression/playing-moneyball-in-the-nba-recitation/video-1-the-data/). "
   ]
  },
  {
   "cell_type": "code",
   "execution_count": 2,
   "metadata": {},
   "outputs": [],
   "source": [
    "# PANDAS IS FOR DATA WRANGLING\n",
    "import pandas as pd\n",
    "import numpy as np\n",
    "\n",
    "# SEABORN IS A PLOTTING LIBRARY\n",
    "import seaborn as sns\n",
    "\n",
    "# MATPLOT LIB IS ALSO A PLOTTING LIBRARY\n",
    "import matplotlib.pyplot as plt\n",
    "\n",
    "# SKLEARN IS OUR MACHINE LEARNING PACKAGE\n",
    "from sklearn.linear_model import LinearRegression\n",
    "\n",
    "# IMPORT OUR RANDOM FOREST REGERSSOR\n",
    "from sklearn.ensemble import RandomForestRegressor\n",
    "\n",
    "# METRICS HELP US SCORE OUR MODEL\n",
    "from sklearn import metrics\n",
    "\n",
    "# HELP US SPLIT OUR DATA INTO TESTING A TRAINING\n",
    "from sklearn.model_selection import train_test_split\n",
    "\n",
    "# Good ol statsmodels\n",
    "import statsmodels.api as sm\n",
    "\n",
    "# Specific root mean squared error for stats models\n",
    "from statsmodels.tools.eval_measures import rmse\n",
    "\n",
    "\n",
    "from statsmodels.stats.outliers_influence import variance_inflation_factor\n",
    "\n",
    "\n",
    "from statsmodels.api import qqplot\n",
    "\n",
    "import CTPLIB as ctp\n"
   ]
  },
  {
   "cell_type": "markdown",
   "metadata": {},
   "source": [
    "# Remember our main steps motto _isbe_.\n",
    "1. i - Inspect and explore data.\n",
    "2. s - Select and engineer features.\n",
    "3. b - Build and train model.\n",
    "4. e - Evaluate model."
   ]
  },
  {
   "cell_type": "markdown",
   "metadata": {},
   "source": [
    "# STEP 1 (i): Inspect and explore data\n",
    "1. Use `data/NBA_test.csv and data/NBA_train.csv`"
   ]
  },
  {
   "cell_type": "code",
   "execution_count": 3,
   "metadata": {},
   "outputs": [
    {
     "data": {
      "text/html": [
       "<div>\n",
       "<style scoped>\n",
       "    .dataframe tbody tr th:only-of-type {\n",
       "        vertical-align: middle;\n",
       "    }\n",
       "\n",
       "    .dataframe tbody tr th {\n",
       "        vertical-align: top;\n",
       "    }\n",
       "\n",
       "    .dataframe thead th {\n",
       "        text-align: right;\n",
       "    }\n",
       "</style>\n",
       "<table border=\"1\" class=\"dataframe\">\n",
       "  <thead>\n",
       "    <tr style=\"text-align: right;\">\n",
       "      <th></th>\n",
       "      <th>SeasonEnd</th>\n",
       "      <th>Team</th>\n",
       "      <th>Playoffs</th>\n",
       "      <th>W</th>\n",
       "      <th>PTS</th>\n",
       "      <th>oppPTS</th>\n",
       "      <th>FG</th>\n",
       "      <th>FGA</th>\n",
       "      <th>2P</th>\n",
       "      <th>2PA</th>\n",
       "      <th>3P</th>\n",
       "      <th>3PA</th>\n",
       "      <th>FT</th>\n",
       "      <th>FTA</th>\n",
       "      <th>ORB</th>\n",
       "      <th>DRB</th>\n",
       "      <th>AST</th>\n",
       "      <th>STL</th>\n",
       "      <th>BLK</th>\n",
       "      <th>TOV</th>\n",
       "    </tr>\n",
       "  </thead>\n",
       "  <tbody>\n",
       "    <tr>\n",
       "      <th>0</th>\n",
       "      <td>1980</td>\n",
       "      <td>Atlanta Hawks</td>\n",
       "      <td>1</td>\n",
       "      <td>50</td>\n",
       "      <td>8573</td>\n",
       "      <td>8334</td>\n",
       "      <td>3261</td>\n",
       "      <td>7027</td>\n",
       "      <td>3248</td>\n",
       "      <td>6952</td>\n",
       "      <td>13</td>\n",
       "      <td>75</td>\n",
       "      <td>2038</td>\n",
       "      <td>2645</td>\n",
       "      <td>1369</td>\n",
       "      <td>2406</td>\n",
       "      <td>1913</td>\n",
       "      <td>782</td>\n",
       "      <td>539</td>\n",
       "      <td>1495</td>\n",
       "    </tr>\n",
       "    <tr>\n",
       "      <th>1</th>\n",
       "      <td>1980</td>\n",
       "      <td>Boston Celtics</td>\n",
       "      <td>1</td>\n",
       "      <td>61</td>\n",
       "      <td>9303</td>\n",
       "      <td>8664</td>\n",
       "      <td>3617</td>\n",
       "      <td>7387</td>\n",
       "      <td>3455</td>\n",
       "      <td>6965</td>\n",
       "      <td>162</td>\n",
       "      <td>422</td>\n",
       "      <td>1907</td>\n",
       "      <td>2449</td>\n",
       "      <td>1227</td>\n",
       "      <td>2457</td>\n",
       "      <td>2198</td>\n",
       "      <td>809</td>\n",
       "      <td>308</td>\n",
       "      <td>1539</td>\n",
       "    </tr>\n",
       "    <tr>\n",
       "      <th>2</th>\n",
       "      <td>1980</td>\n",
       "      <td>Chicago Bulls</td>\n",
       "      <td>0</td>\n",
       "      <td>30</td>\n",
       "      <td>8813</td>\n",
       "      <td>9035</td>\n",
       "      <td>3362</td>\n",
       "      <td>6943</td>\n",
       "      <td>3292</td>\n",
       "      <td>6668</td>\n",
       "      <td>70</td>\n",
       "      <td>275</td>\n",
       "      <td>2019</td>\n",
       "      <td>2592</td>\n",
       "      <td>1115</td>\n",
       "      <td>2465</td>\n",
       "      <td>2152</td>\n",
       "      <td>704</td>\n",
       "      <td>392</td>\n",
       "      <td>1684</td>\n",
       "    </tr>\n",
       "    <tr>\n",
       "      <th>3</th>\n",
       "      <td>1980</td>\n",
       "      <td>Cleveland Cavaliers</td>\n",
       "      <td>0</td>\n",
       "      <td>37</td>\n",
       "      <td>9360</td>\n",
       "      <td>9332</td>\n",
       "      <td>3811</td>\n",
       "      <td>8041</td>\n",
       "      <td>3775</td>\n",
       "      <td>7854</td>\n",
       "      <td>36</td>\n",
       "      <td>187</td>\n",
       "      <td>1702</td>\n",
       "      <td>2205</td>\n",
       "      <td>1307</td>\n",
       "      <td>2381</td>\n",
       "      <td>2108</td>\n",
       "      <td>764</td>\n",
       "      <td>342</td>\n",
       "      <td>1370</td>\n",
       "    </tr>\n",
       "    <tr>\n",
       "      <th>4</th>\n",
       "      <td>1980</td>\n",
       "      <td>Denver Nuggets</td>\n",
       "      <td>0</td>\n",
       "      <td>30</td>\n",
       "      <td>8878</td>\n",
       "      <td>9240</td>\n",
       "      <td>3462</td>\n",
       "      <td>7470</td>\n",
       "      <td>3379</td>\n",
       "      <td>7215</td>\n",
       "      <td>83</td>\n",
       "      <td>255</td>\n",
       "      <td>1871</td>\n",
       "      <td>2539</td>\n",
       "      <td>1311</td>\n",
       "      <td>2524</td>\n",
       "      <td>2079</td>\n",
       "      <td>746</td>\n",
       "      <td>404</td>\n",
       "      <td>1533</td>\n",
       "    </tr>\n",
       "  </tbody>\n",
       "</table>\n",
       "</div>"
      ],
      "text/plain": [
       "   SeasonEnd                 Team  Playoffs   W   PTS  oppPTS    FG   FGA  \\\n",
       "0       1980        Atlanta Hawks         1  50  8573    8334  3261  7027   \n",
       "1       1980       Boston Celtics         1  61  9303    8664  3617  7387   \n",
       "2       1980        Chicago Bulls         0  30  8813    9035  3362  6943   \n",
       "3       1980  Cleveland Cavaliers         0  37  9360    9332  3811  8041   \n",
       "4       1980       Denver Nuggets         0  30  8878    9240  3462  7470   \n",
       "\n",
       "     2P   2PA   3P  3PA    FT   FTA   ORB   DRB   AST  STL  BLK   TOV  \n",
       "0  3248  6952   13   75  2038  2645  1369  2406  1913  782  539  1495  \n",
       "1  3455  6965  162  422  1907  2449  1227  2457  2198  809  308  1539  \n",
       "2  3292  6668   70  275  2019  2592  1115  2465  2152  704  392  1684  \n",
       "3  3775  7854   36  187  1702  2205  1307  2381  2108  764  342  1370  \n",
       "4  3379  7215   83  255  1871  2539  1311  2524  2079  746  404  1533  "
      ]
     },
     "execution_count": 3,
     "metadata": {},
     "output_type": "execute_result"
    }
   ],
   "source": [
    "# READ IN THE DATA USING PANDAS \n",
    "df = pd.read_csv('data/NBA_train.csv')\n",
    "\n",
    "\n",
    "# DISPLAY THE FIRST 5 ROWS\n",
    "df.head()"
   ]
  },
  {
   "cell_type": "markdown",
   "metadata": {},
   "source": [
    "```\n",
    "SeasonEnd: Year season ended\n",
    "Team: Name of team\n",
    "Playoffs: If they made the playoffs. 1 == made to playoffs\n",
    "W: Number of regular season in that season. \n",
    "PTS: Points scored in regular season. \n",
    "oppPTS: Opponent Points scored in regular season. \n",
    "FG: Field Goals made (total shots made == 2P and 3P combined)\n",
    "FGA: Field Goals attempted (total shots attempted == 2P and 3P combined)\n",
    "2P: two-pointers made\n",
    "2PA: two-pointers attempted\n",
    "3P: three-pointers made\n",
    "3PA: three-pointers attempted\n",
    "FT: Free-Throws made (not included in FG stat)\n",
    "FTA: Free-Throws attempted (not included in FG stat)\n",
    "ORB: Offensive Rebounds\n",
    "DRB: Defensive Rebounds\n",
    "AST: Assists made\n",
    "STL: Steals \n",
    "BLK: Blocks \n",
    "TOV: Turnovers \n",
    "```"
   ]
  },
  {
   "cell_type": "markdown",
   "metadata": {},
   "source": [
    "#### Inspect our data using `df.describe()` function."
   ]
  },
  {
   "cell_type": "code",
   "execution_count": 4,
   "metadata": {},
   "outputs": [
    {
     "data": {
      "text/plain": [
       "<bound method NDFrame.describe of      SeasonEnd                 Team  Playoffs   W   PTS  oppPTS    FG   FGA  \\\n",
       "0         1980        Atlanta Hawks         1  50  8573    8334  3261  7027   \n",
       "1         1980       Boston Celtics         1  61  9303    8664  3617  7387   \n",
       "2         1980        Chicago Bulls         0  30  8813    9035  3362  6943   \n",
       "3         1980  Cleveland Cavaliers         0  37  9360    9332  3811  8041   \n",
       "4         1980       Denver Nuggets         0  30  8878    9240  3462  7470   \n",
       "..         ...                  ...       ...  ..   ...     ...   ...   ...   \n",
       "830       2011     Sacramento Kings         0  24  8151    8589  3134  6979   \n",
       "831       2011    San Antonio Spurs         1  61  8502    8034  3148  6628   \n",
       "832       2011      Toronto Raptors         0  22  8124    8639  3144  6755   \n",
       "833       2011            Utah Jazz         0  39  8153    8303  3064  6590   \n",
       "834       2011   Washington Wizards         0  23  7977    8584  3048  6888   \n",
       "\n",
       "       2P   2PA   3P   3PA    FT   FTA   ORB   DRB   AST  STL  BLK   TOV  \n",
       "0    3248  6952   13    75  2038  2645  1369  2406  1913  782  539  1495  \n",
       "1    3455  6965  162   422  1907  2449  1227  2457  2198  809  308  1539  \n",
       "2    3292  6668   70   275  2019  2592  1115  2465  2152  704  392  1684  \n",
       "3    3775  7854   36   187  1702  2205  1307  2381  2108  764  342  1370  \n",
       "4    3379  7215   83   255  1871  2539  1311  2524  2079  746  404  1533  \n",
       "..    ...   ...  ...   ...   ...   ...   ...   ...   ...  ...  ...   ...  \n",
       "830  2706  5702  428  1277  1455  1981  1071  2526  1675  608  391  1324  \n",
       "831  2463  4901  685  1727  1521  1984   829  2603  1836  602  372  1101  \n",
       "832  2799  5664  345  1091  1491  1976   963  2343  1795  581  350  1206  \n",
       "833  2629  5334  435  1256  1590  2061   898  2338  1921  629  484  1175  \n",
       "834  2656  5706  392  1182  1489  1999  1013  2374  1592  665  502  1258  \n",
       "\n",
       "[835 rows x 20 columns]>"
      ]
     },
     "execution_count": 4,
     "metadata": {},
     "output_type": "execute_result"
    }
   ],
   "source": [
    "# Inspect our data using `df.describe()` function.\n",
    "df.describe"
   ]
  },
  {
   "cell_type": "markdown",
   "metadata": {},
   "source": [
    "#### Check for Nulls."
   ]
  },
  {
   "cell_type": "code",
   "execution_count": 8,
   "metadata": {},
   "outputs": [
    {
     "data": {
      "text/plain": [
       "SeasonEnd    0\n",
       "Team         0\n",
       "Playoffs     0\n",
       "W            0\n",
       "PTS          0\n",
       "oppPTS       0\n",
       "FG           0\n",
       "FGA          0\n",
       "2P           0\n",
       "2PA          0\n",
       "3P           0\n",
       "3PA          0\n",
       "FT           0\n",
       "FTA          0\n",
       "ORB          0\n",
       "DRB          0\n",
       "AST          0\n",
       "STL          0\n",
       "BLK          0\n",
       "TOV          0\n",
       "dtype: int64"
      ]
     },
     "execution_count": 8,
     "metadata": {},
     "output_type": "execute_result"
    }
   ],
   "source": [
    "# Check for Nulls.\n",
    "df.isna().sum()\n",
    "\n"
   ]
  },
  {
   "cell_type": "markdown",
   "metadata": {},
   "source": [
    "#### Check for Duplicates"
   ]
  },
  {
   "cell_type": "code",
   "execution_count": 12,
   "metadata": {},
   "outputs": [
    {
     "data": {
      "text/plain": [
       "False"
      ]
     },
     "execution_count": 12,
     "metadata": {},
     "output_type": "execute_result"
    }
   ],
   "source": [
    "# Check for Duplicates\n",
    "df.duplicated().any()\n"
   ]
  },
  {
   "cell_type": "markdown",
   "metadata": {},
   "source": [
    "#### Build a function that will INSPECT ANY DATAFRAME FOR YOU do this for you for any data frame you pass into it."
   ]
  },
  {
   "cell_type": "code",
   "execution_count": 16,
   "metadata": {},
   "outputs": [
    {
     "name": "stdout",
     "output_type": "stream",
     "text": [
      "{'Shape': (835, 20), 'Data Types': SeasonEnd     int64\n",
      "Team         object\n",
      "Playoffs      int64\n",
      "W             int64\n",
      "PTS           int64\n",
      "oppPTS        int64\n",
      "FG            int64\n",
      "FGA           int64\n",
      "2P            int64\n",
      "2PA           int64\n",
      "3P            int64\n",
      "3PA           int64\n",
      "FT            int64\n",
      "FTA           int64\n",
      "ORB           int64\n",
      "DRB           int64\n",
      "AST           int64\n",
      "STL           int64\n",
      "BLK           int64\n",
      "TOV           int64\n",
      "dtype: object, 'Null Values': SeasonEnd    0\n",
      "Team         0\n",
      "Playoffs     0\n",
      "W            0\n",
      "PTS          0\n",
      "oppPTS       0\n",
      "FG           0\n",
      "FGA          0\n",
      "2P           0\n",
      "2PA          0\n",
      "3P           0\n",
      "3PA          0\n",
      "FT           0\n",
      "FTA          0\n",
      "ORB          0\n",
      "DRB          0\n",
      "AST          0\n",
      "STL          0\n",
      "BLK          0\n",
      "TOV          0\n",
      "dtype: int64, 'Duplicate Rows': 0, 'Descriptive Statistics':          SeasonEnd    Playoffs           W           PTS        oppPTS  \\\n",
      "count   835.000000  835.000000  835.000000    835.000000    835.000000   \n",
      "mean   1996.319760    0.574850   41.000000   8370.239521   8370.239521   \n",
      "std       9.243808    0.494662   12.740822    581.040114    587.543959   \n",
      "min    1980.000000    0.000000   11.000000   6901.000000   6909.000000   \n",
      "25%    1989.000000    0.000000   31.000000   7934.000000   7934.000000   \n",
      "50%    1996.000000    1.000000   42.000000   8312.000000   8365.000000   \n",
      "75%    2005.000000    1.000000   50.500000   8784.500000   8768.500000   \n",
      "max    2011.000000    1.000000   72.000000  10371.000000  10723.000000   \n",
      "\n",
      "                FG          FGA           2P          2PA          3P  \\\n",
      "count   835.000000   835.000000   835.000000   835.000000  835.000000   \n",
      "mean   3200.367665  6873.318563  2881.324551  5956.444311  319.043114   \n",
      "std     287.181266   401.027166   446.097941   830.596327  199.698941   \n",
      "min    2565.000000  5972.000000  1981.000000  4153.000000   10.000000   \n",
      "25%    2974.000000  6563.500000  2510.000000  5269.000000  131.500000   \n",
      "50%    3150.000000  6831.000000  2718.000000  5706.000000  329.000000   \n",
      "75%    3434.500000  7157.000000  3296.000000  6753.500000  481.500000   \n",
      "max    3980.000000  8868.000000  3954.000000  7873.000000  841.000000   \n",
      "\n",
      "               3PA           FT          FTA          ORB          DRB  \\\n",
      "count   835.000000   835.000000   835.000000   835.000000   835.000000   \n",
      "mean    916.874251  1650.461078  2189.953293  1061.584431  2427.354491   \n",
      "std     523.982964   197.651728   244.491086   150.224519   130.671523   \n",
      "min      75.000000  1189.000000  1475.000000   639.000000  2044.000000   \n",
      "25%     413.000000  1502.500000  2008.000000   953.500000  2346.500000   \n",
      "50%     942.000000  1628.000000  2176.000000  1055.000000  2433.000000   \n",
      "75%    1347.500000  1781.000000  2352.000000  1167.000000  2516.500000   \n",
      "max    2284.000000  2388.000000  3051.000000  1520.000000  2753.000000   \n",
      "\n",
      "               AST          STL         BLK          TOV  \n",
      "count   835.000000   835.000000  835.000000   835.000000  \n",
      "mean   1912.112575   668.364072  419.805988  1302.837126  \n",
      "std     221.610925    93.393044   82.274913   153.973470  \n",
      "min    1423.000000   455.000000  204.000000   931.000000  \n",
      "25%    1735.000000   599.000000  359.000000  1192.000000  \n",
      "50%    1899.000000   658.000000  410.000000  1289.000000  \n",
      "75%    2077.500000   729.000000  469.500000  1395.500000  \n",
      "max    2575.000000  1053.000000  716.000000  1873.000000  , 'Preview (First 5 Rows)':    SeasonEnd                 Team  Playoffs   W   PTS  oppPTS    FG   FGA  \\\n",
      "0       1980        Atlanta Hawks         1  50  8573    8334  3261  7027   \n",
      "1       1980       Boston Celtics         1  61  9303    8664  3617  7387   \n",
      "2       1980        Chicago Bulls         0  30  8813    9035  3362  6943   \n",
      "3       1980  Cleveland Cavaliers         0  37  9360    9332  3811  8041   \n",
      "4       1980       Denver Nuggets         0  30  8878    9240  3462  7470   \n",
      "\n",
      "     2P   2PA   3P  3PA    FT   FTA   ORB   DRB   AST  STL  BLK   TOV  \n",
      "0  3248  6952   13   75  2038  2645  1369  2406  1913  782  539  1495  \n",
      "1  3455  6965  162  422  1907  2449  1227  2457  2198  809  308  1539  \n",
      "2  3292  6668   70  275  2019  2592  1115  2465  2152  704  392  1684  \n",
      "3  3775  7854   36  187  1702  2205  1307  2381  2108  764  342  1370  \n",
      "4  3379  7215   83  255  1871  2539  1311  2524  2079  746  404  1533  }\n"
     ]
    }
   ],
   "source": [
    "def inspect_dataframe(input_df):\n",
    "    inspection_report = {}\n",
    "    \n",
    "    \n",
    "    inspection_report[\"Shape\"] = input_df.shape\n",
    "    \n",
    "    \n",
    "    inspection_report[\"Data Types\"] = input_df.dtypes\n",
    "    \n",
    "    \n",
    "    inspection_report[\"Null Values\"] = input_df.isna().sum()\n",
    "    \n",
    "    \n",
    "    inspection_report[\"Duplicate Rows\"] = input_df.duplicated().sum()\n",
    "    \n",
    "    \n",
    "    inspection_report[\"Descriptive Statistics\"] = input_df.describe()\n",
    "    \n",
    "    \n",
    "    inspection_report[\"Preview (First 5 Rows)\"] = input_df.head()\n",
    "    \n",
    "    return inspection_report\n",
    "\n",
    "\n",
    "result = inspect_dataframe(df)\n",
    "print(result)\n",
    "\n"
   ]
  },
  {
   "cell_type": "markdown",
   "metadata": {},
   "source": [
    "#### Get a sense of how many wins it will take to make the playoffs. \n",
    "Make a scatter plot with x=Wins and the y=Team, and the hue=Playoffs"
   ]
  },
  {
   "cell_type": "code",
   "execution_count": null,
   "metadata": {},
   "outputs": [],
   "source": []
  },
  {
   "cell_type": "markdown",
   "metadata": {},
   "source": [
    "#### Take a rough estimate, and now use that moving forward.  \n",
    "\n"
   ]
  },
  {
   "cell_type": "code",
   "execution_count": 90,
   "metadata": {},
   "outputs": [],
   "source": [
    "WINS_NEED_TO_MAKE_PLAYOFFS = ???"
   ]
  },
  {
   "cell_type": "markdown",
   "metadata": {},
   "source": [
    "---"
   ]
  },
  {
   "cell_type": "markdown",
   "metadata": {},
   "source": [
    "# Now do moneyball but for the NBA. \n",
    "\n",
    "#### I would like you to do try and do this on your own first.  \n",
    "\n",
    "It's not easy, but its fun af.  \n",
    "\n",
    "There is a guided lecture on how to do this that I can send you, but I'd like for you to try and figure it out on your own first.  \n",
    "\n",
    "If you are fully stuck, ask in slack how other people did it if that doesn't work (I highly encourage collorbration and learning from eachother.  I still consider that doing it on your own.)  \n",
    "\n",
    "If that doesn't work, DM me and I will send you the lectures explaining how to do the whole thing."
   ]
  },
  {
   "cell_type": "markdown",
   "metadata": {},
   "source": [
    "# Rough Guide a v1 model.\n",
    "0. Make a model to predict PTS \n",
    "0. For v1, dont use `2P, 3P, FG, or FT`.  Instead use `2PA, 3PA, FTA`.  \n",
    "0. Include any other cols use see fit.  \n"
   ]
  },
  {
   "cell_type": "code",
   "execution_count": null,
   "metadata": {},
   "outputs": [],
   "source": []
  }
 ],
 "metadata": {
  "kernelspec": {
   "display_name": "tf",
   "language": "python",
   "name": "python3"
  },
  "language_info": {
   "codemirror_mode": {
    "name": "ipython",
    "version": 3
   },
   "file_extension": ".py",
   "mimetype": "text/x-python",
   "name": "python",
   "nbconvert_exporter": "python",
   "pygments_lexer": "ipython3",
   "version": "3.9.18"
  }
 },
 "nbformat": 4,
 "nbformat_minor": 2
}
